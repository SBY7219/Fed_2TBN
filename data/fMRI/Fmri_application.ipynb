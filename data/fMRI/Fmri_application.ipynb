{
 "cells": [
  {
   "cell_type": "code",
   "execution_count": 1,
   "metadata": {},
   "outputs": [],
   "source": [
    "from scipy.io import loadmat\n",
    "import pandas as pd\n",
    "import os\n",
    "from sklearn.preprocessing import StandardScaler\n",
    "import numpy as np \n",
    "from scipy.optimize import minimize\n",
    "import networkx as nx\n",
    "import scipy.linalg as slin\n",
    "import scipy.optimize as sopt\n",
    "from scipy.special import expit as sigmoid\n",
    "import warnings\n",
    "import matplotlib.pyplot as plt\n",
    "from typing import Dict, List, Tuple, Union\n",
    "\n",
    "from package.utils import opt_boundary\n",
    "from package.pdbn import admm_dy_personal as adp"
   ]
  },
  {
   "cell_type": "code",
   "execution_count": 2,
   "metadata": {},
   "outputs": [
    {
     "name": "stdout",
     "output_type": "stream",
     "text": [
      "(50, 15, 15)\n"
     ]
    }
   ],
   "source": [
    "# Load the .mat file\n",
    "mat_data = loadmat('sims/sim3.mat')  # Replace 'your_file.mat' with your file name\n",
    "net = mat_data['net'] \n",
    "ts = mat_data['ts']   \n",
    "\n",
    "print(net.shape)\n",
    "\n",
    "Nsubjects = 50\n",
    "timepoints_per_subject = 200\n",
    "subjects_ts = np.split(ts, Nsubjects)\n"
   ]
  },
  {
   "cell_type": "code",
   "execution_count": 3,
   "metadata": {},
   "outputs": [],
   "source": [
    "def create_lagged_version(X, lag):\n",
    "    \"\"\"\n",
    "    Create a time-lagged version of the matrix X based on the number of lagged blocks.\n",
    "\n",
    "    Args:\n",
    "        X (np.ndarray): Original time-series data matrix of shape (n, d).\n",
    "        lag (int): Number of lags.\n",
    "\n",
    "    Returns:\n",
    "        Y (np.ndarray): Lagged version of X with multiple lags.\n",
    "    \"\"\"\n",
    "    n, d = X.shape\n",
    "    Y = np.zeros((n, lag * d))\n",
    "\n",
    "    for l in range(1, lag + 1):\n",
    "        Y[l:, (l - 1) * d:l * d] = X[:-l, :]  \n",
    "\n",
    "    return Y\n",
    "\n",
    "\n",
    "def Unwe_G(weighted_matrix):\n",
    "\n",
    "    unweighted_matrix = (weighted_matrix != 0).astype(int)\n",
    "    \n",
    "    return unweighted_matrix"
   ]
  },
  {
   "cell_type": "code",
   "execution_count": 4,
   "metadata": {},
   "outputs": [
    {
     "name": "stdout",
     "output_type": "stream",
     "text": [
      "(5, 200, 15)\n",
      "(5, 200, 15)\n"
     ]
    }
   ],
   "source": [
    "# Choose a subject ID \n",
    "subject_id = [0, 2, 4, 6, 8]\n",
    "X_agent = []\n",
    "Y_agent = []\n",
    "GT = []\n",
    "\n",
    "# Extract the adjacency matrix for the selected subject\n",
    "for k in subject_id:\n",
    "\n",
    "  gt = net[k]\n",
    "  ts = subjects_ts[k]\n",
    "\n",
    "  X = ts\n",
    "  lag = 1\n",
    "  Y = create_lagged_version(X, lag)\n",
    "  GT.append(gt)\n",
    "  X_agent.append(X)\n",
    "  Y_agent.append(Y)\n",
    "\n",
    "X_agent = np.stack(X_agent)  \n",
    "Y_agent = np.stack(Y_agent)  \n",
    "GT = np.stack(GT) \n",
    "\n",
    "print(X_agent.shape)\n",
    "print(Y_agent.shape)"
   ]
  },
  {
   "cell_type": "code",
   "execution_count": 5,
   "metadata": {},
   "outputs": [],
   "source": [
    "X_agent = np.array(X_agent, dtype=np.float64)\n",
    "Y_agent = np.array(Y_agent, dtype=np.float64)\n",
    "d = 15\n",
    "\n",
    "bnds = opt_boundary(X,Y,d)\n",
    "\n",
    "mu = 0.1 \n",
    "w_threshold = 0.2\n",
    "a_threshold = 0.2\n",
    "lambda_w = 0.01\n",
    "lambda_a = 0.01"
   ]
  },
  {
   "cell_type": "code",
   "execution_count": 6,
   "metadata": {},
   "outputs": [],
   "source": [
    "_, _, W_k, A_k=  adp(X_agent, Y_agent, bnds, mu = mu, lambda_w=lambda_w, lambda_a=lambda_a, w_threshold=w_threshold, a_threshold=a_threshold)"
   ]
  },
  {
   "cell_type": "code",
   "execution_count": 7,
   "metadata": {},
   "outputs": [
    {
     "name": "stdout",
     "output_type": "stream",
     "text": [
      "[0.66524621 0.76704545 0.70123106 0.77698864 0.77225379]\n",
      "0.7365530303030303\n",
      "0.045103601026170906\n"
     ]
    }
   ],
   "source": [
    "from sklearn.metrics import roc_auc_score\n",
    "\n",
    "AUROC = np.zeros(5)\n",
    "\n",
    "for k in range(5):\n",
    "\n",
    "    # sum over W and A ele\n",
    "    final = W_k[k] + A_k[k]\n",
    "    threshold = 0.2\n",
    "\n",
    "    final[np.abs(final) < threshold] = 0\n",
    "    AUROC[k] = roc_auc_score(Unwe_G(GT[k]).flatten(), Unwe_G(final).flatten())\n",
    "\n",
    "print(AUROC)\n",
    "print(np.mean(AUROC))\n",
    "print(np.std(AUROC))"
   ]
  }
 ],
 "metadata": {
  "kernelspec": {
   "display_name": "myenv",
   "language": "python",
   "name": "python3"
  },
  "language_info": {
   "codemirror_mode": {
    "name": "ipython",
    "version": 3
   },
   "file_extension": ".py",
   "mimetype": "text/x-python",
   "name": "python",
   "nbconvert_exporter": "python",
   "pygments_lexer": "ipython3",
   "version": "3.11.1"
  }
 },
 "nbformat": 4,
 "nbformat_minor": 2
}
